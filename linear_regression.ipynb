{
 "cells": [
  {
   "cell_type": "code",
   "execution_count": 3,
   "id": "4ee6dc53-575f-42d7-86f3-db6110750475",
   "metadata": {},
   "outputs": [],
   "source": [
    "import pandas as pd\n",
    "import numpy as np\n",
    "import random\n",
    "from sklearn import datasets\n",
    "import matplotlib.pyplot as plt\n",
    "import seaborn as sns\n",
    "from IPython.display import Image\n",
    "from IPython.core.display import HTML \n",
    "import warnings\n",
    "warnings.filterwarnings('ignore')\n"
   ]
  },
  {
   "cell_type": "code",
   "execution_count": 4,
   "id": "940a1d5d-4a31-48ff-883a-bfd527394fea",
   "metadata": {},
   "outputs": [],
   "source": [
    "# Read in dataset\n",
    "data = datasets.load_boston()\n",
    "df = pd.DataFrame(data['data']).set_axis(data['feature_names'], axis=1)\n",
    "df['target'] = data['target']"
   ]
  },
  {
   "cell_type": "code",
   "execution_count": 5,
   "id": "603ad4ae-9b6e-40e3-9d5a-a32d099dbe60",
   "metadata": {},
   "outputs": [
    {
     "data": {
      "text/html": [
       "<div>\n",
       "<style scoped>\n",
       "    .dataframe tbody tr th:only-of-type {\n",
       "        vertical-align: middle;\n",
       "    }\n",
       "\n",
       "    .dataframe tbody tr th {\n",
       "        vertical-align: top;\n",
       "    }\n",
       "\n",
       "    .dataframe thead th {\n",
       "        text-align: right;\n",
       "    }\n",
       "</style>\n",
       "<table border=\"1\" class=\"dataframe\">\n",
       "  <thead>\n",
       "    <tr style=\"text-align: right;\">\n",
       "      <th></th>\n",
       "      <th>CRIM</th>\n",
       "      <th>ZN</th>\n",
       "      <th>INDUS</th>\n",
       "      <th>CHAS</th>\n",
       "      <th>NOX</th>\n",
       "      <th>RM</th>\n",
       "      <th>AGE</th>\n",
       "      <th>DIS</th>\n",
       "      <th>RAD</th>\n",
       "      <th>TAX</th>\n",
       "      <th>PTRATIO</th>\n",
       "      <th>B</th>\n",
       "      <th>LSTAT</th>\n",
       "      <th>target</th>\n",
       "    </tr>\n",
       "  </thead>\n",
       "  <tbody>\n",
       "    <tr>\n",
       "      <th>0</th>\n",
       "      <td>0.00632</td>\n",
       "      <td>18.0</td>\n",
       "      <td>2.31</td>\n",
       "      <td>0.0</td>\n",
       "      <td>0.538</td>\n",
       "      <td>6.575</td>\n",
       "      <td>65.2</td>\n",
       "      <td>4.0900</td>\n",
       "      <td>1.0</td>\n",
       "      <td>296.0</td>\n",
       "      <td>15.3</td>\n",
       "      <td>396.90</td>\n",
       "      <td>4.98</td>\n",
       "      <td>24.0</td>\n",
       "    </tr>\n",
       "    <tr>\n",
       "      <th>1</th>\n",
       "      <td>0.02731</td>\n",
       "      <td>0.0</td>\n",
       "      <td>7.07</td>\n",
       "      <td>0.0</td>\n",
       "      <td>0.469</td>\n",
       "      <td>6.421</td>\n",
       "      <td>78.9</td>\n",
       "      <td>4.9671</td>\n",
       "      <td>2.0</td>\n",
       "      <td>242.0</td>\n",
       "      <td>17.8</td>\n",
       "      <td>396.90</td>\n",
       "      <td>9.14</td>\n",
       "      <td>21.6</td>\n",
       "    </tr>\n",
       "    <tr>\n",
       "      <th>2</th>\n",
       "      <td>0.02729</td>\n",
       "      <td>0.0</td>\n",
       "      <td>7.07</td>\n",
       "      <td>0.0</td>\n",
       "      <td>0.469</td>\n",
       "      <td>7.185</td>\n",
       "      <td>61.1</td>\n",
       "      <td>4.9671</td>\n",
       "      <td>2.0</td>\n",
       "      <td>242.0</td>\n",
       "      <td>17.8</td>\n",
       "      <td>392.83</td>\n",
       "      <td>4.03</td>\n",
       "      <td>34.7</td>\n",
       "    </tr>\n",
       "    <tr>\n",
       "      <th>3</th>\n",
       "      <td>0.03237</td>\n",
       "      <td>0.0</td>\n",
       "      <td>2.18</td>\n",
       "      <td>0.0</td>\n",
       "      <td>0.458</td>\n",
       "      <td>6.998</td>\n",
       "      <td>45.8</td>\n",
       "      <td>6.0622</td>\n",
       "      <td>3.0</td>\n",
       "      <td>222.0</td>\n",
       "      <td>18.7</td>\n",
       "      <td>394.63</td>\n",
       "      <td>2.94</td>\n",
       "      <td>33.4</td>\n",
       "    </tr>\n",
       "    <tr>\n",
       "      <th>4</th>\n",
       "      <td>0.06905</td>\n",
       "      <td>0.0</td>\n",
       "      <td>2.18</td>\n",
       "      <td>0.0</td>\n",
       "      <td>0.458</td>\n",
       "      <td>7.147</td>\n",
       "      <td>54.2</td>\n",
       "      <td>6.0622</td>\n",
       "      <td>3.0</td>\n",
       "      <td>222.0</td>\n",
       "      <td>18.7</td>\n",
       "      <td>396.90</td>\n",
       "      <td>5.33</td>\n",
       "      <td>36.2</td>\n",
       "    </tr>\n",
       "  </tbody>\n",
       "</table>\n",
       "</div>"
      ],
      "text/plain": [
       "      CRIM    ZN  INDUS  CHAS    NOX     RM   AGE     DIS  RAD    TAX  \\\n",
       "0  0.00632  18.0   2.31   0.0  0.538  6.575  65.2  4.0900  1.0  296.0   \n",
       "1  0.02731   0.0   7.07   0.0  0.469  6.421  78.9  4.9671  2.0  242.0   \n",
       "2  0.02729   0.0   7.07   0.0  0.469  7.185  61.1  4.9671  2.0  242.0   \n",
       "3  0.03237   0.0   2.18   0.0  0.458  6.998  45.8  6.0622  3.0  222.0   \n",
       "4  0.06905   0.0   2.18   0.0  0.458  7.147  54.2  6.0622  3.0  222.0   \n",
       "\n",
       "   PTRATIO       B  LSTAT  target  \n",
       "0     15.3  396.90   4.98    24.0  \n",
       "1     17.8  396.90   9.14    21.6  \n",
       "2     17.8  392.83   4.03    34.7  \n",
       "3     18.7  394.63   2.94    33.4  \n",
       "4     18.7  396.90   5.33    36.2  "
      ]
     },
     "execution_count": 5,
     "metadata": {},
     "output_type": "execute_result"
    }
   ],
   "source": [
    "df.head()"
   ]
  },
  {
   "cell_type": "code",
   "execution_count": 6,
   "id": "b97191ec-8c2c-47c9-b0f3-cbe441bb17ef",
   "metadata": {},
   "outputs": [],
   "source": [
    "# Transform tabular data into vectors and matrixes \n",
    "X = df.iloc[:,:-1].values\n",
    "y = df.target.values"
   ]
  },
  {
   "cell_type": "markdown",
   "id": "50d8b391-422b-4505-a1f0-44cfaa0e6211",
   "metadata": {},
   "source": [
    "### Train test split"
   ]
  },
  {
   "cell_type": "code",
   "execution_count": 7,
   "id": "f2e551d9-f1a7-4528-9048-c9dde02e1732",
   "metadata": {},
   "outputs": [],
   "source": [
    "def train_test_split(X, y, test_size):\n",
    "    # Index the array\n",
    "    indices = list(range(len(X)))\n",
    "    \n",
    "    # Find the train size, round() to avoid decimal values\n",
    "    train_size = round((1-test_size)*len(X))\n",
    "    \n",
    "    # Randomly shuffle the indices\n",
    "    random.shuffle(indices)\n",
    "    \n",
    "    # Split the training & testing samples\n",
    "    X_train= X[indices[:train_size]]\n",
    "    y_train = y[indices[:train_size]]\n",
    "    X_test = X[indices[train_size:]]\n",
    "    y_test = y[indices[train_size:]]\n",
    "    \n",
    "    return X_train, y_train, X_test, y_test"
   ]
  },
  {
   "cell_type": "code",
   "execution_count": 8,
   "id": "d91979f5-1454-4684-9363-45ea91f3e3e2",
   "metadata": {},
   "outputs": [],
   "source": [
    "test_size = 0.2\n",
    "X_train, y_train, X_test, y_test = train_test_split(X, y, test_size)"
   ]
  },
  {
   "cell_type": "markdown",
   "id": "da8d4a94-3cdf-42ba-a45f-1b9362daa0e5",
   "metadata": {},
   "source": [
    "## Building the algorithm\n",
    "There are 2 approaches to finding the optimal coefficients (theta) in Linear Regression:\n",
    "1. Normal equation - works well with **small** number of features\n",
    "2. Gradient descent - works well with **large** number of features"
   ]
  },
  {
   "cell_type": "markdown",
   "id": "b4a30edc-3bd5-484d-af67-04acde9a28fc",
   "metadata": {},
   "source": [
    "### 1. Normal Equation\n",
    "The optimal beta or coefficients, i.e. the weights for different X's, can be found by the following formula, i.e. normal equation."
   ]
  },
  {
   "cell_type": "code",
   "execution_count": 266,
   "id": "d00ea91b-45c3-4659-ad32-ec3f4d124e0c",
   "metadata": {},
   "outputs": [
    {
     "data": {
      "text/html": [
       "<img src=\"https://miro.medium.com/max/650/0*-tTqZlpNZdwb4BKz\"/>"
      ],
      "text/plain": [
       "<IPython.core.display.Image object>"
      ]
     },
     "execution_count": 266,
     "metadata": {},
     "output_type": "execute_result"
    }
   ],
   "source": [
    "Image(url= \"https://miro.medium.com/max/650/0*-tTqZlpNZdwb4BKz\")"
   ]
  },
  {
   "cell_type": "code",
   "execution_count": 9,
   "id": "4f2bc879-f9f5-47b4-a5bb-29d8cb77feee",
   "metadata": {},
   "outputs": [],
   "source": [
    "# Fit training samples to the above equation to find the optimal weights\n",
    "def normal_equation(X, y):\n",
    "    coef = np.dot((np.linalg.inv(np.dot(X.T,X))), np.dot(X.T,y))\n",
    "    return coef\n",
    "\n",
    "# Predict y_hat based on the weights\n",
    "def predict(X_test, coef):\n",
    "    return np.dot(X_test, coef)"
   ]
  },
  {
   "cell_type": "code",
   "execution_count": 10,
   "id": "4fccb514",
   "metadata": {},
   "outputs": [],
   "source": [
    "from sklearn.metrics import mean_squared_error, mean_absolute_error\n",
    "\n",
    "# Compute the score in terms of common metrics for regression tasks, namely MAE, RMSE, R-Square\n",
    "def metrics(y_pred, y_test):\n",
    "    \n",
    "    # Mean Absolute Error\n",
    "    MAE = np.mean(np.abs(y_pred-y_test))\n",
    "\n",
    "    # Mean Squared Error (MSE) & RMSE \n",
    "    MSE = np.square(np.subtract(y_test,y_pred)).mean() \n",
    "    RMSE = np.sqrt(MSE)\n",
    "\n",
    "    # R-Square\n",
    "    rss = np.sum(np.square((y_test- y_pred)))\n",
    "    mean = np.mean(y_test)\n",
    "    sst = np.sum(np.square(y_test-mean))\n",
    "    r_square = 1 - (rss/sst)\n",
    "\n",
    "    return MAE, RMSE, r_square"
   ]
  },
  {
   "cell_type": "code",
   "execution_count": 11,
   "id": "8ae159e7",
   "metadata": {},
   "outputs": [
    {
     "name": "stdout",
     "output_type": "stream",
     "text": [
      "Coefficients: [-0.09570701  0.05435168 -0.01151869  3.19817187 -0.45151776  5.81365237\n",
      " -0.01015115 -0.97952169  0.14870465 -0.00831867 -0.37027151  0.01229275\n",
      " -0.42546409]\n"
     ]
    }
   ],
   "source": [
    "coef = normal_equation(X_train, y_train)\n",
    "\n",
    "# Coefficients and bias\n",
    "print(f'Coefficients: {coef}')"
   ]
  },
  {
   "cell_type": "code",
   "execution_count": 12,
   "id": "68c0db98",
   "metadata": {},
   "outputs": [
    {
     "name": "stdout",
     "output_type": "stream",
     "text": [
      "MAE: 3.7509\n",
      "RMSE: 5.6980\n",
      "R-Square: 0.6797\n"
     ]
    }
   ],
   "source": [
    "# Predict with the optimal coefficients & bias\n",
    "y_pred = np.dot(X_test, coef)\n",
    "\n",
    "# Evaluate predictions\n",
    "mae, rmse, r_sq = metrics(y_pred, y_test)\n",
    "print(f'MAE: {mae:.4f}')\n",
    "print(f'RMSE: {rmse:.4f}')\n",
    "print(f'R-Square: {r_sq:.4f}')"
   ]
  },
  {
   "cell_type": "markdown",
   "id": "8bc096c0-9ba0-40bf-8949-beab3cbcf707",
   "metadata": {},
   "source": [
    "### 1.1 Compare with Sklearn's Linear Regression"
   ]
  },
  {
   "cell_type": "code",
   "execution_count": 13,
   "id": "51d16abd-2e93-4b64-8516-fd483f8e2c7e",
   "metadata": {},
   "outputs": [
    {
     "name": "stdout",
     "output_type": "stream",
     "text": [
      "MAE: 3.8421\n",
      "RMSE: 5.6146\n",
      "R-Square: 0.6891\n"
     ]
    }
   ],
   "source": [
    "from sklearn.linear_model import LinearRegression\n",
    "\n",
    "model = LinearRegression()\n",
    "model.fit(X_train, y_train)\n",
    "y_pred = model.predict(X_test)\n",
    "\n",
    "# Evaluate predictions\n",
    "mae, rmse, r_sq = metrics(y_pred, y_test)\n",
    "print(f'MAE: {mae:.4f}')\n",
    "print(f'RMSE: {rmse:.4f}')\n",
    "print(f'R-Square: {r_sq:.4f}')"
   ]
  },
  {
   "cell_type": "markdown",
   "id": "8c44881c",
   "metadata": {},
   "source": [
    "### 2. Gradient Descent\n",
    "In the SGD approach, parameters (weights & baises) will be trained & optimized using gradient descent where we'll calculate the partial derivative of the loss function with respect to the weights (coefficients) and bias and then update the weights & biases gradually."
   ]
  },
  {
   "cell_type": "markdown",
   "id": "c0c0cae6",
   "metadata": {},
   "source": [
    "Normalizing input would allow gradient descent to converge faster."
   ]
  },
  {
   "cell_type": "code",
   "execution_count": 14,
   "id": "1f58fdfe",
   "metadata": {},
   "outputs": [],
   "source": [
    "# Feature scaling\n",
    "from sklearn.preprocessing import StandardScaler\n",
    "\n",
    "scaler = StandardScaler()\n",
    "X_train = scaler.fit_transform(X_train)\n",
    "X_test = scaler.fit_transform(X_test)\n"
   ]
  },
  {
   "cell_type": "code",
   "execution_count": 15,
   "id": "6dba6152",
   "metadata": {},
   "outputs": [],
   "source": [
    "# Cost function\n",
    "def cost(y , y_pred, kind='rmse'):\n",
    "    if kind == 'rmse':\n",
    "        return np.sqrt(np.sum((y - y_pred)**2)/len(y))\n",
    "    elif kind == 'mse':\n",
    "        return np.sum((y - y_pred)**2)/len(y)\n",
    "    elif kind not in ['rmse', 'mse']:\n",
    "        raise ValueError('Cost function not found.')\n",
    "\n",
    "# Gradient descent to find optimal coefficients & bias\n",
    "def gradient_descent(x, y, lr=0.0001, epochs=1000, cost_function='rmse'):\n",
    "    coef = np.random.rand(x.shape[1])\n",
    "    b = 0\n",
    "    n = len(x)\n",
    "    cost_history = []\n",
    "    for i in range(epochs):\n",
    "        y_pred = np.dot(x, coef) + b\n",
    "        error = y - y_pred\n",
    "        cost_ = cost(y, y_pred, kind=cost_function)\n",
    "        cost_history.append(cost_)\n",
    "        dw = (-2/n) * np.dot(x.T, error)\n",
    "        db = (-2/n) * np.sum(error)\n",
    "        coef -= lr * dw\n",
    "        b -= lr * db\n",
    "    return coef, b, cost_history\n"
   ]
  },
  {
   "cell_type": "code",
   "execution_count": 16,
   "id": "ea7aa5c6",
   "metadata": {},
   "outputs": [],
   "source": [
    "coef, b, cost_history = gradient_descent(X_train, y_train, lr=0.001, epochs=2000, cost_function='rmse')"
   ]
  },
  {
   "cell_type": "code",
   "execution_count": 17,
   "id": "dae979dd",
   "metadata": {},
   "outputs": [
    {
     "name": "stdout",
     "output_type": "stream",
     "text": [
      "Coefficients: [-0.75046885  0.61675846 -0.42960907  0.80877266 -0.64371588  3.21374726\n",
      " -0.2242212  -1.81522455  0.76385033 -0.40366496 -1.9111776   0.76371449\n",
      " -3.10004536]\n",
      "Bias: 21.925191942169782\n"
     ]
    }
   ],
   "source": [
    "# Coefficients and bias\n",
    "print(f'Coefficients: {coef}')\n",
    "print(f'Bias: {b}')"
   ]
  },
  {
   "cell_type": "code",
   "execution_count": 22,
   "id": "ae3d244f",
   "metadata": {},
   "outputs": [
    {
     "data": {
      "text/plain": [
       "<AxesSubplot:>"
      ]
     },
     "execution_count": 22,
     "metadata": {},
     "output_type": "execute_result"
    },
    {
     "data": {
      "image/png": "[encoded data removed]",
      "text/plain": [
       "<Figure size 432x288 with 1 Axes>"
      ]
     },
     "metadata": {
      "needs_background": "light"
     },
     "output_type": "display_data"
    }
   ],
   "source": [
    "# Plot training history\n",
    "sns.lineplot(data=cost_history)"
   ]
  },
  {
   "cell_type": "code",
   "execution_count": 19,
   "id": "4882b604",
   "metadata": {},
   "outputs": [
    {
     "name": "stdout",
     "output_type": "stream",
     "text": [
      "MAE: 3.7265\n",
      "RMSE: 5.8584\n",
      "R-Square: 0.6615\n"
     ]
    }
   ],
   "source": [
    "# Predict with the optimal coefficients & bias\n",
    "y_pred = np.dot(X_test, coef) + b\n",
    "\n",
    "# Evaluate predictions\n",
    "mae, rmse, r_sq = metrics(y_pred, y_test)\n",
    "print(f'MAE: {mae:.4f}')\n",
    "print(f'RMSE: {rmse:.4f}')\n",
    "print(f'R-Square: {r_sq:.4f}')"
   ]
  },
  {
   "cell_type": "markdown",
   "id": "c1cbb9f3",
   "metadata": {},
   "source": [
    "### 2.1 Compare with Sklearn's SGDRegressor"
   ]
  },
  {
   "cell_type": "code",
   "execution_count": 20,
   "id": "e6e786d2",
   "metadata": {},
   "outputs": [
    {
     "data": {
      "text/plain": [
       "SGDRegressor(alpha=0.001, max_iter=2000)"
      ]
     },
     "execution_count": 20,
     "metadata": {},
     "output_type": "execute_result"
    }
   ],
   "source": [
    "from sklearn.linear_model import SGDRegressor\n",
    "\n",
    "model = SGDRegressor(alpha=0.001, max_iter=2000)\n",
    "model.fit(X_train, y_train)"
   ]
  },
  {
   "cell_type": "code",
   "execution_count": 21,
   "id": "754bf1db",
   "metadata": {},
   "outputs": [
    {
     "name": "stdout",
     "output_type": "stream",
     "text": [
      "MAE: 3.7859\n",
      "RMSE: 5.7073\n",
      "R-Square: 0.6787\n"
     ]
    }
   ],
   "source": [
    "# Predict with trained coefficients & bias\n",
    "y_pred = model.predict(X_test)\n",
    "\n",
    "# Evaluate predictions\n",
    "mae, rmse, r_sq = metrics(y_pred, y_test)\n",
    "print(f'MAE: {mae:.4f}')\n",
    "print(f'RMSE: {rmse:.4f}')\n",
    "print(f'R-Square: {r_sq:.4f}')"
   ]
  }
 ],
 "metadata": {
  "kernelspec": {
   "display_name": "Python 3",
   "language": "python",
   "name": "python3"
  },
  "language_info": {
   "codemirror_mode": {
    "name": "ipython",
    "version": 3
   },
   "file_extension": ".py",
   "mimetype": "text/x-python",
   "name": "python",
   "nbconvert_exporter": "python",
   "pygments_lexer": "ipython3",
   "version": "3.9.7"
  }
 },
 "nbformat": 4,
 "nbformat_minor": 5
}
