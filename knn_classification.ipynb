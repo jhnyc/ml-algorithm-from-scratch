{
 "cells": [
  {
   "cell_type": "code",
   "execution_count": 1,
   "id": "1a823bae-425e-4a69-8ff3-a785d5d3a357",
   "metadata": {},
   "outputs": [],
   "source": [
    "import numpy as np\n",
    "from scipy import stats\n",
    "import pandas as pd\n",
    "from sklearn.datasets import load_iris\n",
    "import matplotlib.pyplot as plt\n",
    "import seaborn as sns\n",
    "import random"
   ]
  },
  {
   "cell_type": "code",
   "execution_count": 2,
   "id": "0a85e0a9-1495-4dff-a4ef-dd2988574c47",
   "metadata": {},
   "outputs": [],
   "source": [
    "# Read in dataset \n",
    "data = load_iris()\n",
    "df = pd.DataFrame(data['data'], columns = data['feature_names'])\n",
    "df['target'] = data['target']"
   ]
  },
  {
   "cell_type": "code",
   "execution_count": 3,
   "id": "2b00a4f6-c0a0-4b60-8ad6-37daae3d1ea7",
   "metadata": {},
   "outputs": [
    {
     "data": {
      "image/png": "[encoded data removed]",
      "text/plain": [
       "<Figure size 504x360 with 1 Axes>"
      ]
     },
     "metadata": {
      "needs_background": "light"
     },
     "output_type": "display_data"
    }
   ],
   "source": [
    "# Plot the data\n",
    "plt.figure(figsize=(7,5))\n",
    "sns.scatterplot(data=df, x='sepal length (cm)', y='petal length (cm)',hue='target')\n",
    "plt.show()"
   ]
  },
  {
   "cell_type": "markdown",
   "id": "d63cf09e-297e-49bb-ab73-1668b3778a9f",
   "metadata": {},
   "source": [
    "From the above diagram, although we are only visualizing 2 dimensions of the 4 dimensional dataset, we can see that the classes are quite distinctly separated, which should make a good case for the KNN algorithm."
   ]
  },
  {
   "cell_type": "code",
   "execution_count": 4,
   "id": "0b39fd59-cf3e-46cc-b479-cc505cca3fb0",
   "metadata": {},
   "outputs": [],
   "source": [
    "# Train test split\n",
    "def train_test_split(X, y, test_size=0.1):\n",
    "    ix = list(range(len(X)))\n",
    "    n_test = round(len(X)*0.1)\n",
    "    test_ix = random.choices(ix, k=n_test)\n",
    "    train_ix = [i for i in ix if i not in test_ix]\n",
    "    \n",
    "    X_train = X.iloc[train_ix, :].to_numpy()\n",
    "    X_test = X.iloc[test_ix, :].to_numpy()\n",
    "    y_train = y.iloc[train_ix].to_numpy()\n",
    "    y_test = y.iloc[test_ix].to_numpy()\n",
    "    \n",
    "    return X_train, X_test, y_train, y_test"
   ]
  },
  {
   "cell_type": "code",
   "execution_count": 5,
   "id": "cf758130-a463-4d28-a419-09ffb8a8285d",
   "metadata": {},
   "outputs": [],
   "source": [
    "X = df.iloc[:, :-1]\n",
    "y = df.iloc[:, -1]\n",
    "X_train, X_test, y_train, y_test = train_test_split(X, y, test_size=0.1)"
   ]
  },
  {
   "cell_type": "markdown",
   "id": "73c7f6c1-726d-4aea-bcf9-ad6d44ff57ae",
   "metadata": {},
   "source": [
    "### Euclidean distance\n",
    "The whole idea behind the KNN algorithm is to figure out the distances between the predicting datapoint and the rest of the points, and based on the nearest points determine the class of the datapoint. Euclidean distance is a commonly used measure for the distance between 2 vectors. Other common measures of distance include Manhattan distance and Hamming distance (for binary one-hot-encoded vectors)."
   ]
  },
  {
   "cell_type": "code",
   "execution_count": 6,
   "id": "12dbeed4-1ae4-4c84-aaec-26fbe3a3cf0b",
   "metadata": {},
   "outputs": [],
   "source": [
    "def euclidean_distance(p, q):\n",
    "    return np.sqrt(np.sum(((p-q)**2), axis=1))"
   ]
  },
  {
   "cell_type": "code",
   "execution_count": 7,
   "id": "b29f4266-af71-4fab-b56f-3805996d45b5",
   "metadata": {},
   "outputs": [],
   "source": [
    "# Function to find the top n nearest neighbors' index & distance for each sample\n",
    "def knn(X, X_train, n=5):\n",
    "    nearest_neigh_ix = []\n",
    "    nearest_neigh_dist = []\n",
    "    distance = [euclidean_distance(x, X_train) for x in X]\n",
    "    \n",
    "    for point_dist in distance:\n",
    "        # use enumerate to get the indices of the nearest points\n",
    "        sorted_neigh = sorted(enumerate(point_dist), key=lambda x: x[1])[:n]\n",
    "        ix = [tup[0] for tup in sorted_neigh]\n",
    "        dist = [tup[1] for tup in sorted_neigh]\n",
    "        nearest_neigh_ix.append(ix)\n",
    "        nearest_neigh_dist.append(dist)\n",
    "        \n",
    "    return nearest_neigh_ix, nearest_neigh_dist"
   ]
  },
  {
   "cell_type": "markdown",
   "id": "66eccef1-135b-4975-8c12-f565ad7954cc",
   "metadata": {},
   "source": [
    "To predict the target labels of the input data, the simplest method is to just find the target label with the most occurences (i.e. mode) in our neighboring points. In this way, we give equal weights to the n nearest points, how close they are from the point which we are trying to predict does not matter."
   ]
  },
  {
   "cell_type": "code",
   "execution_count": 10,
   "id": "5afa3a9e-f788-4e1c-ae4a-5732c1da85a5",
   "metadata": {},
   "outputs": [],
   "source": [
    "def predict(X, X_train, y_train, n=5, weight='equal'):\n",
    "    nearest_neigh_ix, nearest_neigh_dist = knn(X, X_train, n=n)\n",
    "    # map the nearest neighbors indices to the dependent variable, i.e. the target\n",
    "    neigh_targets = [y_train[ix] for ix in nearest_neigh_ix]\n",
    "    if weight == 'equal':\n",
    "        y_pred = [stats.mode(target)[0][0] for target in neigh_targets]\n",
    "        return y_pred\n",
    "    elif weight == 'distance':\n",
    "        y_pred = []\n",
    "        for target, dist in zip(neigh_targets, nearest_neigh_dist):\n",
    "            tmp = {} # a tempory dict to store the sum of inverse distance per target \n",
    "            for target_, dist_ in zip(target, dist):\n",
    "                if not target_ in tmp:\n",
    "                    tmp[target_] = 1/dist_\n",
    "                else:\n",
    "                    tmp[target_] += 1/dist_\n",
    "            y_pred.append(max(tmp, key=tmp.get)) # the target with the max inv. distance from the point is the predicted target \n",
    "        return y_pred\n",
    "            \n",
    "            \n",
    "def accuracy(y_pred, y_test):\n",
    "    score = np.sum(y_pred == y_test)/len(y_pred)\n",
    "    return score"
   ]
  },
  {
   "cell_type": "markdown",
   "id": "82f6b643-e1ae-4079-9601-d807472a65d7",
   "metadata": {},
   "source": [
    "## Test"
   ]
  },
  {
   "cell_type": "code",
   "execution_count": 13,
   "id": "3b94c0ed-0353-41f4-aa7c-b823279b0e20",
   "metadata": {},
   "outputs": [
    {
     "name": "stdout",
     "output_type": "stream",
     "text": [
      "The accuracy is 100.0%\n"
     ]
    }
   ],
   "source": [
    "y_pred = predict(X_test, X_train, y_train, n=5, weight='equal')\n",
    "\n",
    "accuracy = accuracy(y_pred, y_test)\n",
    "print(f'The accuracy is {accuracy * 100}%')"
   ]
  },
  {
   "cell_type": "code",
   "execution_count": null,
   "id": "eb4c217f",
   "metadata": {},
   "outputs": [],
   "source": []
  }
 ],
 "metadata": {
  "kernelspec": {
   "display_name": "Python 3",
   "language": "python",
   "name": "python3"
  },
  "language_info": {
   "codemirror_mode": {
    "name": "ipython",
    "version": 3
   },
   "file_extension": ".py",
   "mimetype": "text/x-python",
   "name": "python",
   "nbconvert_exporter": "python",
   "pygments_lexer": "ipython3",
   "version": "3.9.7"
  }
 },
 "nbformat": 4,
 "nbformat_minor": 5
}
