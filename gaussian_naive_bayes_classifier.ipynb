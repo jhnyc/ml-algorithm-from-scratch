{
 "cells": [
  {
   "cell_type": "code",
   "execution_count": 25,
   "id": "314ca560-4359-48ce-8b85-288c7db3b5db",
   "metadata": {},
   "outputs": [],
   "source": [
    "import pandas as pd\n",
    "import numpy as np\n",
    "from sklearn.datasets import load_breast_cancer"
   ]
  },
  {
   "attachments": {
    "2b33df58-d40f-4913-bbfa-84b0a4e0ea88.png": {
     "image/png": "[encoded data removed]"
    },
    "6fb1f1e3-372d-4f77-a855-1153b049c0f3.png": {
     "image/png": "[encoded data removed]"
    },
    "8cc72e03-8535-4708-92dc-f23c47ca8c6e.png": {
     "image/png": "[encoded data removed]"
    }
   },
   "cell_type": "markdown",
   "id": "37f750c9-3fda-4f68-8510-b353681860ce",
   "metadata": {},
   "source": [
    "The *Naive Bayes Classification* algorithm is based on the principle of Bayes' Theorem whihc calculates the probability of data being in a given class based on prior knowledge, i.e. given a set of features, independent variables.\n",
    "\n",
    "\n",
    "![image.png](attachment:6fb1f1e3-372d-4f77-a855-1153b049c0f3.png)\n",
    "\n",
    "![image.png](attachment:8cc72e03-8535-4708-92dc-f23c47ca8c6e.png)\n",
    "\n",
    "Since the denominator value is a constance, the denominator can be removed from the equation for ease of comparison. And because Naive Bayes assumes that **all features are independent** from each other,  numerator part of the equation can be rewritten as follows:\n",
    "\n",
    "![image.png](attachment:2b33df58-d40f-4913-bbfa-84b0a4e0ea88.png)"
   ]
  },
  {
   "cell_type": "markdown",
   "id": "a3b79a36-8547-41fb-bc89-6c9f90369f61",
   "metadata": {},
   "source": [
    "Unlike the above classic Naive Bayes where feature values are **discrete** which allows for easy computation of probability, a variant of Naive Bayes is the **Gaussian Naive Bayes**, which is used when the features are continuous variables. It assumes the values of independent variables are **normally distributed in each class**."
   ]
  },
  {
   "cell_type": "code",
   "execution_count": 26,
   "id": "5b61ae46-c5ef-49fa-967f-7b899b3f7ec3",
   "metadata": {},
   "outputs": [],
   "source": [
    "# Dataset\n",
    "data = load_breast_cancer()\n",
    "df = pd.DataFrame(data=data['data'], columns=data['feature_names'])\n",
    "df['target'] = data['target']"
   ]
  },
  {
   "cell_type": "code",
   "execution_count": 281,
   "id": "c17e855d-1042-4a3f-a784-2d8b7be5e379",
   "metadata": {},
   "outputs": [],
   "source": [
    "from sklearn.model_selection import train_test_split\n",
    "\n",
    "X = df.iloc[:, :-1]\n",
    "y = df.iloc[:, -1]\n",
    "X_train, X_test, y_train, y_test = train_test_split(X, y, test_size=0.2, random_state=42)\n",
    "    "
   ]
  },
  {
   "cell_type": "markdown",
   "id": "e7d5d84b-11e8-4ece-ac4a-0971c702aaac",
   "metadata": {},
   "source": [
    "Calculate **prior probabilities** of each class, i.e. P(Yi)"
   ]
  },
  {
   "cell_type": "code",
   "execution_count": 47,
   "id": "0b30c8f8-d455-43e2-8fab-e5537475518f",
   "metadata": {},
   "outputs": [
    {
     "data": {
      "text/plain": [
       "{0: 0.6274165202108963, 1: 0.37258347978910367}"
      ]
     },
     "execution_count": 47,
     "metadata": {},
     "output_type": "execute_result"
    }
   ],
   "source": [
    "def get_prior(y_train):\n",
    "    output = {}\n",
    "    for label, count in zip(y_train.unique(), y_train.value_counts()):\n",
    "        output[label] = count/len(y_train)\n",
    "    return output\n",
    "\n",
    "get_prior(df.iloc[:,-1])"
   ]
  },
  {
   "cell_type": "markdown",
   "id": "205fa72b-b0cb-4cca-a3eb-fbd495e5efe6",
   "metadata": {},
   "source": [
    "To estimate the normal distribution of the independent variables, which will then allow us to compute the **gaussian probabilities**, we need the mean and standard deviation of the features under each class."
   ]
  },
  {
   "cell_type": "code",
   "execution_count": 268,
   "id": "4218d3bb-2d8f-4b70-8082-8cd00bd07d77",
   "metadata": {},
   "outputs": [],
   "source": [
    "import scipy\n",
    "def gaussian_probability(x, mean, std):\n",
    "    return scipy.stats.norm(loc=mean, scale=std).pdf(x) # probability density\n",
    "#     return scipy.stats.norm(loc=mean, scale=std).cdf(x)  \n",
    "\n",
    "# Alternatively, we can compute the gaussian probability with a hand built function\n",
    "import math\n",
    "def gaussian_probability_(x, mean, stdev):\n",
    "    expo = math.exp(-(math.pow(x - mean, 2) / (2 * math.pow(stdev, 2))))\n",
    "    return (1 / (math.sqrt(2 * math.pi) * stdev)) * expo"
   ]
  },
  {
   "cell_type": "code",
   "execution_count": 276,
   "id": "0f3efb57-2c18-420c-bdbb-1737b612d5ee",
   "metadata": {},
   "outputs": [],
   "source": [
    "# Mean and standard deviation of features under each class\n",
    "def find_mean_std(X_train, y_train):\n",
    "    output = {}\n",
    "    for class_ in set(y_train):\n",
    "        ix = np.where(y_train==class_)[0]\n",
    "        x = X_train[ix,:]\n",
    "        output[class_] = {}\n",
    "        for col in range(x.shape[1]):\n",
    "            tmp = {}\n",
    "            tmp['mean'], tmp['std'] = np.mean(x[:,col]), np.std(x[:,col])\n",
    "            output[class_][col] = tmp\n",
    "    return output\n",
    "\n",
    "# Calculate the probabilities of a given entry belonging to each class\n",
    "def class_probabilities(class_summaries, test):\n",
    "    output = {}\n",
    "    for class_ in class_summaries:\n",
    "        output[class_] = 1\n",
    "        for i in range(len(test)):\n",
    "            value = test[i]\n",
    "            mean, std = class_summaries[class_][i]['mean'], class_summaries[class_][i]['std']\n",
    "            output[class_] *= gaussian_probability(value, mean, std)\n",
    "    return output\n",
    "\n",
    "# Return the predication with the higher probability\n",
    "def predict(class_summaries, X_test):\n",
    "    prediction = []\n",
    "    for test in X_test:\n",
    "        prob = class_probabilities(class_summaries, test)\n",
    "        prediction.append(max(prob, key=prob.get))\n",
    "    return prediction\n",
    "\n",
    "# Calculate accuracy of classification\n",
    "def accuracy(y_pred, y_test):\n",
    "    n_correct = len(np.where(y_pred==y_test)[0])\n",
    "    return n_correct / len(y_pred)\n",
    "    "
   ]
  },
  {
   "cell_type": "markdown",
   "id": "26f4cde5-78ea-487c-a63f-8a2daec94e95",
   "metadata": {},
   "source": [
    "### Test"
   ]
  },
  {
   "cell_type": "code",
   "execution_count": 332,
   "id": "d9da1a7d-bc53-4bf5-a65b-ef8b21bfc535",
   "metadata": {},
   "outputs": [],
   "source": [
    "import matplotlib.pyplot as plt\n",
    "import seaborn as sns\n",
    "from sklearn.metrics import f1_score, confusion_matrix\n",
    "\n",
    "# Helper function to plot confusion matrix & show the F1 score\n",
    "def plot_confusion_matrix(y_test, y_pred):\n",
    "    cm = confusion_matrix(y_test, y_pred)\n",
    "    group_names = ['True Negative','False Positive','False Negative','True Positive']\n",
    "    group_counts = [value for value in cm.flatten()]\n",
    "    labels = [f'{name}\\n{count}' for name, count in zip(group_names,group_counts)]\n",
    "    labels = np.array(labels).reshape(2,2)\n",
    "    sns.heatmap(cm, annot=labels, cmap='Blues', fmt='')\n",
    "    plt.xlabel('Predicted')\n",
    "    plt.ylabel('True')\n",
    "    plt.show()\n",
    "    # print F1 Score\n",
    "    print(f'\\nF1 Score: {f1_score(y_test, y_pred):.4f}')"
   ]
  },
  {
   "cell_type": "code",
   "execution_count": 333,
   "id": "d2193f5a-2b8a-4ed7-a55e-9b4cbe8059ea",
   "metadata": {},
   "outputs": [
    {
     "data": {
      "text/plain": [
       "0.9649122807017544"
      ]
     },
     "execution_count": 333,
     "metadata": {},
     "output_type": "execute_result"
    }
   ],
   "source": [
    "# Test out the algorithm\n",
    "class_summaries = find_mean_std(X_train.values, y_train.values)\n",
    "y_pred = predict(class_summaries, X_test.values)\n",
    "accuracy(y_pred, y_test)"
   ]
  },
  {
   "cell_type": "code",
   "execution_count": 334,
   "id": "b7b58deb-6fed-4983-b29c-269b7c325954",
   "metadata": {},
   "outputs": [
    {
     "data": {
      "image/png": "[encoded data removed]",
      "text/plain": [
       "<Figure size 432x288 with 2 Axes>"
      ]
     },
     "metadata": {
      "needs_background": "light"
     },
     "output_type": "display_data"
    },
    {
     "name": "stdout",
     "output_type": "stream",
     "text": [
      "\n",
      "F1 Score: 0.9722\n"
     ]
    }
   ],
   "source": [
    "plot_confusion_matrix(y_test, y_pred)"
   ]
  },
  {
   "cell_type": "code",
   "execution_count": 335,
   "id": "e8756072-f185-4955-a5aa-f03fa7ba49a5",
   "metadata": {},
   "outputs": [
    {
     "data": {
      "text/plain": [
       "0.9736842105263158"
      ]
     },
     "execution_count": 335,
     "metadata": {},
     "output_type": "execute_result"
    }
   ],
   "source": [
    "# Compare with sklearn's implementation of Gaussian Naive Bayes\n",
    "from sklearn.naive_bayes import GaussianNB\n",
    "gnb = GaussianNB()\n",
    "y_pred = gnb.fit(X_train, y_train).predict(X_test)\n",
    "accuracy(y_pred, y_test)"
   ]
  },
  {
   "cell_type": "code",
   "execution_count": 336,
   "id": "2536517d-a34c-4cc5-a356-57ba276ccfab",
   "metadata": {},
   "outputs": [
    {
     "data": {
      "image/png": "[encoded data removed]",
      "text/plain": [
       "<Figure size 432x288 with 2 Axes>"
      ]
     },
     "metadata": {
      "needs_background": "light"
     },
     "output_type": "display_data"
    },
    {
     "name": "stdout",
     "output_type": "stream",
     "text": [
      "\n",
      "F1 Score: 0.9793\n"
     ]
    }
   ],
   "source": [
    "plot_confusion_matrix(y_test, y_pred)"
   ]
  }
 ],
 "metadata": {
  "kernelspec": {
   "display_name": "Python 3",
   "language": "python",
   "name": "python3"
  },
  "language_info": {
   "codemirror_mode": {
    "name": "ipython",
    "version": 3
   },
   "file_extension": ".py",
   "mimetype": "text/x-python",
   "name": "python",
   "nbconvert_exporter": "python",
   "pygments_lexer": "ipython3",
   "version": "3.9.6"
  }
 },
 "nbformat": 4,
 "nbformat_minor": 5
}
